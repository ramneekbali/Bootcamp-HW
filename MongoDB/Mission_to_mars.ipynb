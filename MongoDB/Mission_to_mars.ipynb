{
 "cells": [
  {
   "cell_type": "code",
   "execution_count": 13,
   "metadata": {},
   "outputs": [],
   "source": [
    "import pandas as pd\n",
    "import requests\n",
    "from bs4 import BeautifulSoup\n",
    "from splinter import Browser\n"
   ]
  },
  {
   "cell_type": "code",
   "execution_count": 15,
   "metadata": {},
   "outputs": [
    {
     "data": {
      "text/plain": [
       "{'item_title': 'After a Reset, Curiosity Is Operating Normally',\n",
       " 'item_desc': 'Curiosity has returned to science operations and is once again exploring the clay unit. '}"
      ]
     },
     "execution_count": 15,
     "metadata": {},
     "output_type": "execute_result"
    }
   ],
   "source": [
    "#headlines\n",
    "\n",
    "def get_mars_headline():\n",
    "    url = \"https://mars.nasa.gov/api/v1/news_items/?page=0&per_page=40&order=publish_date+desc%2Ccreated_at+desc&search=&category=19%2C165%2C184%2C204&blank_scope=Latest\"\n",
    "    resp = requests.get(url).json()\n",
    "    first_item = resp.get('items')[0]\n",
    "    return {\"item_title\": first_item.get('title'), \n",
    "            \"item_desc\": first_item.get('description')\n",
    "           }\n",
    "headlines_dict = get_mars_headline()\n",
    "headlines_dict"
   ]
  },
  {
   "cell_type": "code",
   "execution_count": 16,
   "metadata": {},
   "outputs": [
    {
     "data": {
      "text/plain": [
       "{'image': 'https://www.jpl.nasa.gov/spaceimages/images/wallpaper/PIA19952-1920x1200.jpg'}"
      ]
     },
     "execution_count": 16,
     "metadata": {},
     "output_type": "execute_result"
    }
   ],
   "source": [
    "# Get featured Image\n",
    "\n",
    "\n",
    "def get_featured_image():\n",
    "    executable_path = {'executable_path': '/Users/p2778494/Downloads/chromedriver'}\n",
    "    browser = Browser('chrome', **executable_path, headless=False)\n",
    "    url_pict = \"https://www.jpl.nasa.gov/spaceimages/?search=&category=Mars\"\n",
    "    browser.visit(url_pict)\n",
    "    html = browser.html\n",
    "    nasa_soup = BeautifulSoup(html, 'html.parser')\n",
    "    picture = nasa_soup.find(\"div\",{\"class\":\"carousel_items\"}).find(\"article\")[\"style\"]\n",
    "#     for x in picture:\n",
    "#         pict = x.find('article')\n",
    "#         background_pict = pict.get('style')\n",
    "#         re_background_pict = re.search(\"'(.+?)'\", background_pict)\n",
    "    search_background_pict =picture.split(\"'\")[1]\n",
    "    featured_pict_url = f'https://www.jpl.nasa.gov{search_background_pict}'\n",
    "    return{\"image\":featured_pict_url}\n",
    "\n",
    "featured_image=get_featured_image()\n",
    "featured_image\n"
   ]
  },
  {
   "cell_type": "code",
   "execution_count": 9,
   "metadata": {},
   "outputs": [
    {
     "data": {
      "text/plain": [
       "{'weather': 'InSight sol 92 (2019-03-01) low -94.4ºC (-137.9ºF) high -12.9ºC (8.8ºF)\\nwinds from the SW at 4.6 m/s (10.2 mph) gusting to 10.4 m/s (23.2 mph)\\npressure at 7.20 hPapic.twitter.com/zxXhRFOwTo'}"
      ]
     },
     "execution_count": 9,
     "metadata": {},
     "output_type": "execute_result"
    }
   ],
   "source": [
    "# Get the latest weather\n",
    "\n",
    "def get_mars_weather():\n",
    "    executable_path = {'executable_path': '/Users/p2778494/Downloads/chromedriver'}\n",
    "    browser = Browser('chrome', **executable_path, headless=False)\n",
    "    url_weath = 'https://twitter.com/marswxreport?lang=en'\n",
    "    browser.visit(url_weath)\n",
    "    html_weath = browser.html\n",
    "    mars_weath = BeautifulSoup(html_weath, 'html.parser')\n",
    "    weather_tweets = mars_weath.find_all(\"p\",{\"class\":\"TweetTextSize\"})[0].text\n",
    "    return {\"weather\": weather_tweets}\n",
    "\n",
    "weather = get_mars_weather()\n",
    "weather"
   ]
  },
  {
   "cell_type": "code",
   "execution_count": 10,
   "metadata": {},
   "outputs": [
    {
     "data": {
      "text/plain": [
       "{'html_table_facts': '<table border=\"1\" class=\"dataframe table-bordered table-striped table-hover\">\\n  <thead>\\n    <tr style=\"text-align: right;\">\\n      <th></th>\\n      <th>Parameter</th>\\n      <th>Values</th>\\n    </tr>\\n  </thead>\\n  <tbody>\\n    <tr>\\n      <th>0</th>\\n      <td>Equatorial Diameter:</td>\\n      <td>6,792 km</td>\\n    </tr>\\n    <tr>\\n      <th>1</th>\\n      <td>Polar Diameter:</td>\\n      <td>6,752 km</td>\\n    </tr>\\n    <tr>\\n      <th>2</th>\\n      <td>Mass:</td>\\n      <td>6.42 x 10^23 kg (10.7% Earth)</td>\\n    </tr>\\n    <tr>\\n      <th>3</th>\\n      <td>Moons:</td>\\n      <td>2 (Phobos &amp; Deimos)</td>\\n    </tr>\\n    <tr>\\n      <th>4</th>\\n      <td>Orbit Distance:</td>\\n      <td>227,943,824 km (1.52 AU)</td>\\n    </tr>\\n    <tr>\\n      <th>5</th>\\n      <td>Orbit Period:</td>\\n      <td>687 days (1.9 years)</td>\\n    </tr>\\n    <tr>\\n      <th>6</th>\\n      <td>Surface Temperature:</td>\\n      <td>-153 to 20 °C</td>\\n    </tr>\\n    <tr>\\n      <th>7</th>\\n      <td>First Record:</td>\\n      <td>2nd millennium BC</td>\\n    </tr>\\n    <tr>\\n      <th>8</th>\\n      <td>Recorded By:</td>\\n      <td>Egyptian astronomers</td>\\n    </tr>\\n  </tbody>\\n</table>'}"
      ]
     },
     "execution_count": 10,
     "metadata": {},
     "output_type": "execute_result"
    }
   ],
   "source": [
    "# Get facts table\n",
    "\n",
    "def get_mars_facts_table():\n",
    "    mars_fact_url = 'http://space-facts.com/mars/'\n",
    "    mars_fact__table =pd.read_html(mars_fact_url)\n",
    "    table=mars_fact__table[0]\n",
    "    table.columns = [\"Parameter\", \"Values\"]\n",
    "    formatted =  table.to_html(classes=[\"table-bordered\", \"table-striped\", \"table-hover\"])\n",
    "    return {\"html_table_facts\": formatted}\n",
    "\n",
    "facts_table_dict = get_mars_facts_table()\n",
    "facts_table_dict"
   ]
  },
  {
   "cell_type": "code",
   "execution_count": 17,
   "metadata": {},
   "outputs": [
    {
     "data": {
      "text/plain": [
       "{'images': [{'title': 'Cerberus Hemisphere Enhanced',\n",
       "   'img_url': 'https://astrogeology.usgs.gov/cache/images/cfa62af2557222a02478f1fcd781d445_cerberus_enhanced.tif_full.jpg'},\n",
       "  {'title': 'Schiaparelli Hemisphere Enhanced',\n",
       "   'img_url': 'https://astrogeology.usgs.gov/cache/images/3cdd1cbf5e0813bba925c9030d13b62e_schiaparelli_enhanced.tif_full.jpg'},\n",
       "  {'title': 'Syrtis Major Hemisphere Enhanced',\n",
       "   'img_url': 'https://astrogeology.usgs.gov/cache/images/ae209b4e408bb6c3e67b6af38168cf28_syrtis_major_enhanced.tif_full.jpg'},\n",
       "  {'title': 'Valles Marineris Hemisphere Enhanced',\n",
       "   'img_url': 'https://astrogeology.usgs.gov/cache/images/7cf2da4bf549ed01c17f206327be4db7_valles_marineris_enhanced.tif_full.jpg'}]}"
      ]
     },
     "execution_count": 17,
     "metadata": {},
     "output_type": "execute_result"
    }
   ],
   "source": [
    "  def mars_hemi_img():\n",
    "    executable_path = {'executable_path': '/Users/p2778494/Downloads/chromedriver'}\n",
    "    browser = Browser('chrome', **executable_path, headless=False)\n",
    "    url='https://astrogeology.usgs.gov/search/results?q=hemisphere+enhanced&k1=target&v1=Mars'\n",
    "    browser.visit(url)\n",
    "    html = browser.html\n",
    "    mars = BeautifulSoup(html, 'html.parser')\n",
    "    base_url ='https://astrogeology.usgs.gov'\n",
    "    hemisphere_image_urls = []\n",
    "    urls = mars.find_all(\"div\", class_=\"item\")\n",
    "    for x in urls:\n",
    "        img_dic = {}\n",
    "        header = x.find(\"h3\").text\n",
    "        next_url = x.find(\"div\", class_=\"description\").a[\"href\"]\n",
    "        full_url = base_url + next_url\n",
    "        browser.visit(full_url)\n",
    "        pic_html = browser.html\n",
    "        pic_soup = BeautifulSoup(pic_html, 'html.parser')\n",
    "        url_p = pic_soup.find(\"img\", class_=\"wide-image\")[\"src\"]\n",
    "\n",
    "        img_dic[\"title\"] = header\n",
    "        img_dic[\"img_url\"] = base_url + url_p\n",
    "#         print(img_dic[\"img_url\"])\n",
    "        hemisphere_image_urls.append(img_dic)\n",
    "        \n",
    "    return {\"images\":hemisphere_image_urls}\n",
    "\n",
    "hemi_image =mars_hemi_img()\n",
    "hemi_image"
   ]
  },
  {
   "cell_type": "code",
   "execution_count": 107,
   "metadata": {},
   "outputs": [],
   "source": [
    "def scrape_master():\n",
    "    print('scraping stuff')\n",
    "    headline_dict = get_mars_headline()\n",
    "    Featured_img_dict = get_featured_image()\n",
    "    weather_dict = get_mars_weather()\n",
    "    facts_table_dict= get_mars_facts_table()\n",
    "    mars_img_dict = mars_hemi_img()\n",
    "    merged_dict = {**headline_dict, **Featured_img_dict, **weather_dict, **facts_table_dict, **mars_img_dict}\n",
    "    print('done merging')\n",
    "    # merged dict will be the new data in mongodb\n",
    "    return merged_dict"
   ]
  },
  {
   "cell_type": "code",
   "execution_count": 108,
   "metadata": {},
   "outputs": [
    {
     "name": "stdout",
     "output_type": "stream",
     "text": [
      "scraping stuff\n",
      "done merging\n"
     ]
    },
    {
     "data": {
      "text/plain": [
       "{'item_title': 'After a Reset, Curiosity Is Operating Normally',\n",
       " 'item_desc': 'Curiosity has returned to science operations and is once again exploring the clay unit. ',\n",
       " 'image': 'https://www.jpl.nasa.gov/spaceimages/images/wallpaper/PIA03519-1920x1200.jpg',\n",
       " 'weather': 'InSight sol 92 (2019-03-01) low -94.4ºC (-137.9ºF) high -12.9ºC (8.8ºF)\\nwinds from the SW at 4.6 m/s (10.2 mph) gusting to 10.4 m/s (23.2 mph)\\npressure at 7.20 hPapic.twitter.com/zxXhRFOwTo',\n",
       " 'html_table_facts': '<table border=\"1\" class=\"dataframe table-bordered table-striped table-hover\">\\n  <thead>\\n    <tr style=\"text-align: right;\">\\n      <th></th>\\n      <th>Parameter</th>\\n      <th>Values</th>\\n    </tr>\\n  </thead>\\n  <tbody>\\n    <tr>\\n      <th>0</th>\\n      <td>Equatorial Diameter:</td>\\n      <td>6,792 km</td>\\n    </tr>\\n    <tr>\\n      <th>1</th>\\n      <td>Polar Diameter:</td>\\n      <td>6,752 km</td>\\n    </tr>\\n    <tr>\\n      <th>2</th>\\n      <td>Mass:</td>\\n      <td>6.42 x 10^23 kg (10.7% Earth)</td>\\n    </tr>\\n    <tr>\\n      <th>3</th>\\n      <td>Moons:</td>\\n      <td>2 (Phobos &amp; Deimos)</td>\\n    </tr>\\n    <tr>\\n      <th>4</th>\\n      <td>Orbit Distance:</td>\\n      <td>227,943,824 km (1.52 AU)</td>\\n    </tr>\\n    <tr>\\n      <th>5</th>\\n      <td>Orbit Period:</td>\\n      <td>687 days (1.9 years)</td>\\n    </tr>\\n    <tr>\\n      <th>6</th>\\n      <td>Surface Temperature:</td>\\n      <td>-153 to 20 °C</td>\\n    </tr>\\n    <tr>\\n      <th>7</th>\\n      <td>First Record:</td>\\n      <td>2nd millennium BC</td>\\n    </tr>\\n    <tr>\\n      <th>8</th>\\n      <td>Recorded By:</td>\\n      <td>Egyptian astronomers</td>\\n    </tr>\\n  </tbody>\\n</table>',\n",
       " 'images': [{'title': 'Cerberus Hemisphere Enhanced',\n",
       "   'img_url': 'https://astrogeology.usgs.gov/cache/images/cfa62af2557222a02478f1fcd781d445_cerberus_enhanced.tif_full.jpg'},\n",
       "  {'title': 'Schiaparelli Hemisphere Enhanced',\n",
       "   'img_url': 'https://astrogeology.usgs.gov/cache/images/3cdd1cbf5e0813bba925c9030d13b62e_schiaparelli_enhanced.tif_full.jpg'},\n",
       "  {'title': 'Syrtis Major Hemisphere Enhanced',\n",
       "   'img_url': 'https://astrogeology.usgs.gov/cache/images/ae209b4e408bb6c3e67b6af38168cf28_syrtis_major_enhanced.tif_full.jpg'},\n",
       "  {'title': 'Valles Marineris Hemisphere Enhanced',\n",
       "   'img_url': 'https://astrogeology.usgs.gov/cache/images/7cf2da4bf549ed01c17f206327be4db7_valles_marineris_enhanced.tif_full.jpg'}]}"
      ]
     },
     "execution_count": 108,
     "metadata": {},
     "output_type": "execute_result"
    }
   ],
   "source": [
    "scrape_master()"
   ]
  },
  {
   "cell_type": "code",
   "execution_count": 12,
   "metadata": {},
   "outputs": [
    {
     "data": {
      "text/plain": [
       "<pymongo.results.InsertOneResult at 0x10d8a0648>"
      ]
     },
     "execution_count": 12,
     "metadata": {},
     "output_type": "execute_result"
    }
   ],
   "source": [
    "from pymongo import MongoClient\n",
    "client = MongoClient()\n",
    "\n",
    "headline_dict = get_mars_headline()\n",
    "Featured_img_dict = get_featured_image()\n",
    "weather_dict = get_mars_weather()\n",
    "facts_table_dict= get_mars_facts_table()\n",
    "mars_img_dict = mars_hemi_img()\n",
    "merged_dict = {**headline_dict, **Featured_img_dict, **weather_dict, **facts_table_dict, **mars_img_dict}\n",
    "\n",
    "db=client.mars_details\n",
    "collection=db.mars_collection\n",
    "collection.insert_one(merged_dict)"
   ]
  },
  {
   "cell_type": "code",
   "execution_count": null,
   "metadata": {},
   "outputs": [],
   "source": []
  },
  {
   "cell_type": "code",
   "execution_count": null,
   "metadata": {},
   "outputs": [],
   "source": [
    "\n",
    "\n",
    "\n"
   ]
  },
  {
   "cell_type": "code",
   "execution_count": null,
   "metadata": {},
   "outputs": [],
   "source": []
  },
  {
   "cell_type": "code",
   "execution_count": null,
   "metadata": {},
   "outputs": [],
   "source": []
  },
  {
   "cell_type": "code",
   "execution_count": null,
   "metadata": {},
   "outputs": [],
   "source": [
    "\n"
   ]
  },
  {
   "cell_type": "code",
   "execution_count": null,
   "metadata": {},
   "outputs": [],
   "source": []
  },
  {
   "cell_type": "code",
   "execution_count": null,
   "metadata": {},
   "outputs": [],
   "source": []
  },
  {
   "cell_type": "code",
   "execution_count": null,
   "metadata": {},
   "outputs": [],
   "source": []
  },
  {
   "cell_type": "code",
   "execution_count": null,
   "metadata": {},
   "outputs": [],
   "source": []
  },
  {
   "cell_type": "code",
   "execution_count": null,
   "metadata": {},
   "outputs": [],
   "source": []
  }
 ],
 "metadata": {
  "kernelspec": {
   "display_name": "Python 3",
   "language": "python",
   "name": "python3"
  },
  "language_info": {
   "codemirror_mode": {
    "name": "ipython",
    "version": 3
   },
   "file_extension": ".py",
   "mimetype": "text/x-python",
   "name": "python",
   "nbconvert_exporter": "python",
   "pygments_lexer": "ipython3",
   "version": "3.6.7"
  }
 },
 "nbformat": 4,
 "nbformat_minor": 2
}
